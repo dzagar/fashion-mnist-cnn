{
  "nbformat": 4,
  "nbformat_minor": 0,
  "metadata": {
    "colab": {
      "name": "swhela2_dzagar_Assignment3.ipynb",
      "version": "0.3.2",
      "provenance": [],
      "collapsed_sections": [],
      "toc_visible": true
    },
    "kernelspec": {
      "name": "python3",
      "display_name": "Python 3"
    }
  },
  "cells": [
    {
      "metadata": {
        "id": "3LnM9bPor3tL",
        "colab_type": "text"
      },
      "cell_type": "markdown",
      "source": [
        "# Assignment 3: Convolutional Neural Networks\n",
        "Sarah Whelan (250778849), Dana Zagar (250790176) via Colab"
      ]
    },
    {
      "metadata": {
        "id": "xvtpbQOKseUa",
        "colab_type": "text"
      },
      "cell_type": "markdown",
      "source": [
        "The problem we are modelling is the classification of clothing items using the Fashion MNIST dataset from Kaggle. We will be using convolutional neural networks to achieve an accuracy of around 88.5%."
      ]
    },
    {
      "metadata": {
        "id": "qoyng_GGs_xm",
        "colab_type": "text"
      },
      "cell_type": "markdown",
      "source": [
        "Setting up the environment with the required imports."
      ]
    },
    {
      "metadata": {
        "id": "U9Kau0ryrzFA",
        "colab_type": "code",
        "colab": {
          "base_uri": "https://localhost:8080/",
          "height": 35
        },
        "outputId": "1dd3158b-6642-4dc7-b53a-d9439bb532c4"
      },
      "cell_type": "code",
      "source": [
        "import numpy as np\n",
        "import pandas as pd\n",
        "import matplotlib.pyplot as plt\n",
        "%matplotlib inline\n",
        "from sklearn.model_selection import train_test_split\n",
        "from keras.utils.np_utils import to_categorical\n",
        "from keras.models import Sequential\n",
        "from keras.layers import Dense, Dropout, Flatten, Conv2D, MaxPool2D, BatchNormalization\n",
        "from keras.optimizers import Adam\n",
        "from keras.preprocessing.image import ImageDataGenerator\n",
        "from keras.callbacks import LearningRateScheduler"
      ],
      "execution_count": 1,
      "outputs": [
        {
          "output_type": "stream",
          "text": [
            "Using TensorFlow backend.\n"
          ],
          "name": "stderr"
        }
      ]
    },
    {
      "metadata": {
        "id": "R_99RBfyvBCu",
        "colab_type": "text"
      },
      "cell_type": "markdown",
      "source": [
        "Retrieving and loading the data (just copied data to local runtime)."
      ]
    },
    {
      "metadata": {
        "id": "K3uhno4nvLKH",
        "colab_type": "code",
        "colab": {}
      },
      "cell_type": "code",
      "source": [
        "# Get data files\n",
        "training_set = \"/content/fashion-mnist_train.csv\"\n",
        "test_set = \"/content/fashion-mnist_test.csv\""
      ],
      "execution_count": 0,
      "outputs": []
    },
    {
      "metadata": {
        "id": "oVJ5UP4xve5T",
        "colab_type": "code",
        "colab": {}
      },
      "cell_type": "code",
      "source": [
        "# Splitting data into training and validation sets, to evaluate\n",
        "# the model's performance.\n",
        "raw_training = np.loadtxt(training_set, skiprows=1, dtype='int', delimiter=',')\n",
        "x_train, x_val, y_train, y_val = train_test_split(raw_training[:,1:], raw_training[:,0], test_size=0.1)"
      ],
      "execution_count": 0,
      "outputs": []
    },
    {
      "metadata": {
        "id": "ZF05WnyqxJf8",
        "colab_type": "text"
      },
      "cell_type": "markdown",
      "source": [
        "Let's plot the first element of the training set to get an idea of how our CNN will be convoluting our input set."
      ]
    },
    {
      "metadata": {
        "id": "2R9v2CttxhV3",
        "colab_type": "code",
        "colab": {
          "base_uri": "https://localhost:8080/",
          "height": 297
        },
        "outputId": "0108d4c9-77a5-43dc-b5c2-83eb4391a30e"
      },
      "cell_type": "code",
      "source": [
        "plt.xlabel('28x28')\n",
        "plt.imshow(x_train[0].reshape(28,28), cmap='gray')"
      ],
      "execution_count": 4,
      "outputs": [
        {
          "output_type": "execute_result",
          "data": {
            "text/plain": [
              "<matplotlib.image.AxesImage at 0x7f333a3252b0>"
            ]
          },
          "metadata": {
            "tags": []
          },
          "execution_count": 4
        },
        {
          "output_type": "display_data",
          "data": {
            "image/png": "[encoded data removed]",
            "text/plain": [
              "<Figure size 432x288 with 1 Axes>"
            ]
          },
          "metadata": {
            "tags": []
          }
        }
      ]
    },
    {
      "metadata": {
        "id": "hpuJ_CZPzhmM",
        "colab_type": "text"
      },
      "cell_type": "markdown",
      "source": [
        "Keras wants an additional dimension to reshape all of the data in this way; since the dataset is all grayscale images, there is only one channel so we will use 1."
      ]
    },
    {
      "metadata": {
        "id": "zoK8aFQS0LSO",
        "colab_type": "code",
        "colab": {}
      },
      "cell_type": "code",
      "source": [
        "x_train = x_train.reshape(-1, 28, 28, 1)\n",
        "x_val = x_val.reshape(-1, 28, 28, 1)"
      ],
      "execution_count": 0,
      "outputs": []
    },
    {
      "metadata": {
        "id": "rNTRPJA-1dIX",
        "colab_type": "text"
      },
      "cell_type": "markdown",
      "source": [
        "To allow the net to converge faster, we can normalize the pixel values to be between 0 and 1 (versus 0 to 255)."
      ]
    },
    {
      "metadata": {
        "id": "jjlu9rST1uY8",
        "colab_type": "code",
        "colab": {}
      },
      "cell_type": "code",
      "source": [
        "x_train = x_train.astype(\"float32\")/255\n",
        "x_val = x_val.astype(\"float32\")/255"
      ],
      "execution_count": 0,
      "outputs": []
    },
    {
      "metadata": {
        "id": "ObLLGRfA19yC",
        "colab_type": "text"
      },
      "cell_type": "markdown",
      "source": [
        "The labels of the 10 classes are given as integers between 0 and 9. Converting the labels to \"one-hot encoding\" (i.e. 10x1 array with one 1 and nine zeroes, and the position of 1 shows us the value) will be necessary to interpret the data properly. "
      ]
    },
    {
      "metadata": {
        "id": "l6aE9tdq26ut",
        "colab_type": "code",
        "colab": {}
      },
      "cell_type": "code",
      "source": [
        "y_train = to_categorical(y_train)\n",
        "y_val = to_categorical(y_val)"
      ],
      "execution_count": 0,
      "outputs": []
    },
    {
      "metadata": {
        "id": "XstYnjFs3tuP",
        "colab_type": "text"
      },
      "cell_type": "markdown",
      "source": [
        "To train the model, we can use the Keras Sequential API that will let us add one layer at a time. We will start with the input layer, and then add convolutional layers (Conv2D), max pooling layers (MaxPooling), batch normalization (BatchNormalization), and dropout (Dropout).\n",
        "\n",
        "\n",
        "*   Conv2D: use weights to transform a pixel to a weighted average of itself as well as its eight neighbouring pixels.\n",
        "*   MaxPool2D: views the four neighbouring pixels and picks the maximum value, reducing the image size by half\n",
        "*  BatchNormalization: applies a transformation that maintains the mean activation close to 0 and the activation standard deviation close to 1.\n",
        "*  Dropout: a regularization method where the layer randomly replaces a proportion of its weights to 0 for each training sample; this forces learning in a more distributed fashion instead of relying on a specific weight, which improves the net's generalization. Hurrah for avoiding overfitting!\n",
        "\n"
      ]
    },
    {
      "metadata": {
        "id": "cuFKKRxL5c2w",
        "colab_type": "code",
        "colab": {}
      },
      "cell_type": "code",
      "source": [
        "model = Sequential()\n",
        "\n",
        "model.add(Conv2D(filters = 16, kernel_size = (3, 3), activation='relu', input_shape=(28, 28, 1)))\n",
        "model.add(BatchNormalization())\n",
        "model.add(Conv2D(filters = 16, kernel_size= (3,3), activation='relu'))\n",
        "model.add(BatchNormalization())\n",
        "model.add(Conv2D(filters = 16, kernel_size= (3,3), activation='relu'))\n",
        "model.add(BatchNormalization())\n",
        "\n",
        "model.add(Dropout(0.25))\n",
        "\n",
        "model.add(Conv2D(filters=32, kernel_size=(3,3), activation='relu'))\n",
        "model.add(BatchNormalization())\n",
        "model.add(Conv2D(filters=32, kernel_size=(3,3), activation='relu'))\n",
        "model.add(BatchNormalization())\n",
        "model.add(Conv2D(filters=32, kernel_size=(3,3), activation='relu'))\n",
        "model.add(BatchNormalization())\n",
        "\n",
        "model.add(MaxPool2D(strides=(2,2)))\n",
        "model.add(Dropout(0.25))\n",
        "\n",
        "model.add(Conv2D(filters=64, kernel_size=(3,3), activation='relu'))\n",
        "model.add(BatchNormalization())\n",
        "model.add(Conv2D(filters=64, kernel_size=(3,3), activation='relu'))\n",
        "model.add(BatchNormalization())\n",
        "model.add(Conv2D(filters=64, kernel_size=(3,3), activation='relu'))\n",
        "model.add(BatchNormalization())\n",
        "\n",
        "model.add(MaxPool2D(strides=(2,2)))\n",
        "model.add(Dropout(0.25))\n"
      ],
      "execution_count": 0,
      "outputs": []
    },
    {
      "metadata": {
        "id": "we4c5xkK6jYN",
        "colab_type": "text"
      },
      "cell_type": "markdown",
      "source": [
        "Adding more layers to the model: flattening, then feeding through several densely-connected neural network layers. The use of the 'softmax' activation on the last Dense layer is explained further below."
      ]
    },
    {
      "metadata": {
        "id": "nMEDHzPr7JTJ",
        "colab_type": "code",
        "colab": {}
      },
      "cell_type": "code",
      "source": [
        "model.add(Flatten())\n",
        "model.add(Dense(512, activation='relu'))\n",
        "model.add(Dropout(0.25))\n",
        "model.add(Dense(1024, activation='relu'))\n",
        "model.add(Dropout(0.5))\n",
        "model.add(Dense(10, activation='softmax'))"
      ],
      "execution_count": 0,
      "outputs": []
    },
    {
      "metadata": {
        "id": "rplAi7Cp83Hk",
        "colab_type": "text"
      },
      "cell_type": "markdown",
      "source": [
        "To improve our model's ability to generalize, data augmentation is essential. To augment the data, we can use the built-in Keras function. We won't augment the data too much, since the images are only 28x28 pixels and we don't want to destroy the integrity of the shapes contained within the image as far as to mislead our model."
      ]
    },
    {
      "metadata": {
        "id": "FFLH4_cH9Py0",
        "colab_type": "code",
        "colab": {}
      },
      "cell_type": "code",
      "source": [
        "img_data_gen = ImageDataGenerator(zoom_range=0.1, shear_range=0.1, height_shift_range=0.1, width_shift_range=0.1, rotation_range=10, vertical_flip=True)"
      ],
      "execution_count": 0,
      "outputs": []
    },
    {
      "metadata": {
        "id": "uoy4DGwn-Ayh",
        "colab_type": "text"
      },
      "cell_type": "markdown",
      "source": [
        "When compiling the model, we dictate the loss function to be used as well as the optimizer. For the loss function, we will use the 'categorical_crossentropy' loss function, which is a good loss function for multi-class cross-entropy when inferring maximum likelihood. It requires that our output layer is configured with one node for each class and a 'softmax' activation to predict the probability for each class, which we have set up previously. For the optimizer, we will use Adam."
      ]
    },
    {
      "metadata": {
        "id": "GHMU766CA7BQ",
        "colab_type": "code",
        "colab": {}
      },
      "cell_type": "code",
      "source": [
        "model.compile(loss='categorical_crossentropy', optimizer= Adam(lr=1e-4), metrics=[\"accuracy\"])"
      ],
      "execution_count": 0,
      "outputs": []
    },
    {
      "metadata": {
        "id": "XkRJg_YeOjKZ",
        "colab_type": "text"
      },
      "cell_type": "markdown",
      "source": [
        "Let's generate a summary of our model to neatly view our layers with their associated output shape and number of parameters."
      ]
    },
    {
      "metadata": {
        "id": "68Yb_XrPOsbW",
        "colab_type": "code",
        "colab": {
          "base_uri": "https://localhost:8080/",
          "height": 1187
        },
        "outputId": "a3bb525b-f16a-4d21-e028-5ae2a448e813"
      },
      "cell_type": "code",
      "source": [
        "model.summary()"
      ],
      "execution_count": 21,
      "outputs": [
        {
          "output_type": "stream",
          "text": [
            "_________________________________________________________________\n",
            "Layer (type)                 Output Shape              Param #   \n",
            "=================================================================\n",
            "conv2d_47 (Conv2D)           (None, 26, 26, 16)        160       \n",
            "_________________________________________________________________\n",
            "batch_normalization_41 (Batc (None, 26, 26, 16)        64        \n",
            "_________________________________________________________________\n",
            "conv2d_48 (Conv2D)           (None, 24, 24, 16)        2320      \n",
            "_________________________________________________________________\n",
            "batch_normalization_42 (Batc (None, 24, 24, 16)        64        \n",
            "_________________________________________________________________\n",
            "conv2d_49 (Conv2D)           (None, 22, 22, 16)        2320      \n",
            "_________________________________________________________________\n",
            "batch_normalization_43 (Batc (None, 22, 22, 16)        64        \n",
            "_________________________________________________________________\n",
            "dropout_13 (Dropout)         (None, 22, 22, 16)        0         \n",
            "_________________________________________________________________\n",
            "conv2d_50 (Conv2D)           (None, 20, 20, 32)        4640      \n",
            "_________________________________________________________________\n",
            "batch_normalization_44 (Batc (None, 20, 20, 32)        128       \n",
            "_________________________________________________________________\n",
            "conv2d_51 (Conv2D)           (None, 18, 18, 32)        9248      \n",
            "_________________________________________________________________\n",
            "batch_normalization_45 (Batc (None, 18, 18, 32)        128       \n",
            "_________________________________________________________________\n",
            "conv2d_52 (Conv2D)           (None, 16, 16, 32)        9248      \n",
            "_________________________________________________________________\n",
            "batch_normalization_46 (Batc (None, 16, 16, 32)        128       \n",
            "_________________________________________________________________\n",
            "max_pooling2d_11 (MaxPooling (None, 8, 8, 32)          0         \n",
            "_________________________________________________________________\n",
            "dropout_14 (Dropout)         (None, 8, 8, 32)          0         \n",
            "_________________________________________________________________\n",
            "conv2d_53 (Conv2D)           (None, 6, 6, 64)          18496     \n",
            "_________________________________________________________________\n",
            "batch_normalization_47 (Batc (None, 6, 6, 64)          256       \n",
            "_________________________________________________________________\n",
            "conv2d_54 (Conv2D)           (None, 4, 4, 64)          36928     \n",
            "_________________________________________________________________\n",
            "batch_normalization_48 (Batc (None, 4, 4, 64)          256       \n",
            "_________________________________________________________________\n",
            "conv2d_55 (Conv2D)           (None, 2, 2, 64)          36928     \n",
            "_________________________________________________________________\n",
            "batch_normalization_49 (Batc (None, 2, 2, 64)          256       \n",
            "_________________________________________________________________\n",
            "max_pooling2d_12 (MaxPooling (None, 1, 1, 64)          0         \n",
            "_________________________________________________________________\n",
            "dropout_15 (Dropout)         (None, 1, 1, 64)          0         \n",
            "_________________________________________________________________\n",
            "flatten_1 (Flatten)          (None, 64)                0         \n",
            "_________________________________________________________________\n",
            "dense_1 (Dense)              (None, 512)               33280     \n",
            "_________________________________________________________________\n",
            "dropout_16 (Dropout)         (None, 512)               0         \n",
            "_________________________________________________________________\n",
            "dense_2 (Dense)              (None, 1024)              525312    \n",
            "_________________________________________________________________\n",
            "dropout_17 (Dropout)         (None, 1024)              0         \n",
            "_________________________________________________________________\n",
            "dense_3 (Dense)              (None, 10)                10250     \n",
            "=================================================================\n",
            "Total params: 690,474\n",
            "Trainable params: 689,802\n",
            "Non-trainable params: 672\n",
            "_________________________________________________________________\n"
          ],
          "name": "stdout"
        }
      ]
    },
    {
      "metadata": {
        "id": "JbaEiuyvDVIQ",
        "colab_type": "text"
      },
      "cell_type": "markdown",
      "source": [
        "A nifty feature that Keras provides is the ability to speed up each epoch by reducing our learning rate by 5% each time."
      ]
    },
    {
      "metadata": {
        "id": "AqI7OSisECiN",
        "colab_type": "code",
        "colab": {}
      },
      "cell_type": "code",
      "source": [
        "lr_decay = LearningRateScheduler(lambda x: 0.95**x * 1e-3)"
      ],
      "execution_count": 0,
      "outputs": []
    },
    {
      "metadata": {
        "id": "Rgkuaw4GEUv5",
        "colab_type": "text"
      },
      "cell_type": "markdown",
      "source": [
        "Training time!\n",
        "We will use the data augmentation generator we defined above to feed the network. The validation data we will train on will be a subset of the validation data we originally defined, to speed up the training process. We will use 50 epochs, which had a runtime of about an hour and a half. We tweaked the number of epochs and the batch size several times, and these settings provided the best accuracy for our model."
      ]
    },
    {
      "metadata": {
        "id": "LyOQwFYvFeAg",
        "colab_type": "code",
        "colab": {
          "base_uri": "https://localhost:8080/",
          "height": 1817
        },
        "outputId": "7c144daa-5817-4d3c-c535-6a8866a47580"
      },
      "cell_type": "code",
      "source": [
        "model_history = model.fit_generator(img_data_gen.flow(x_train, y_train, batch_size=32),\n",
        "                                   steps_per_epoch=500,\n",
        "                                   epochs=50,\n",
        "                                   verbose=2,\n",
        "                                   validation_data=(x_val[:400,:], y_val[:400,:]),\n",
        "                                   callbacks=[lr_decay])"
      ],
      "execution_count": 22,
      "outputs": [
        {
          "output_type": "stream",
          "text": [
            "Epoch 1/50\n",
            " - 120s - loss: 0.7809 - acc: 0.7146 - val_loss: 0.5895 - val_acc: 0.7650\n",
            "Epoch 2/50\n",
            " - 120s - loss: 0.7114 - acc: 0.7449 - val_loss: 0.5707 - val_acc: 0.7875\n",
            "Epoch 3/50\n",
            " - 120s - loss: 0.6912 - acc: 0.7511 - val_loss: 0.5339 - val_acc: 0.7750\n",
            "Epoch 4/50\n",
            " - 120s - loss: 0.6544 - acc: 0.7670 - val_loss: 0.5246 - val_acc: 0.7925\n",
            "Epoch 5/50\n",
            " - 120s - loss: 0.6256 - acc: 0.7798 - val_loss: 0.4464 - val_acc: 0.8150\n",
            "Epoch 6/50\n",
            " - 120s - loss: 0.6105 - acc: 0.7845 - val_loss: 0.4710 - val_acc: 0.8225\n",
            "Epoch 7/50\n",
            " - 119s - loss: 0.5997 - acc: 0.7872 - val_loss: 0.4245 - val_acc: 0.8325\n",
            "Epoch 8/50\n",
            " - 119s - loss: 0.5876 - acc: 0.7903 - val_loss: 0.5607 - val_acc: 0.7900\n",
            "Epoch 9/50\n",
            " - 121s - loss: 0.5629 - acc: 0.7958 - val_loss: 0.4866 - val_acc: 0.8100\n",
            "Epoch 10/50\n",
            " - 119s - loss: 0.5578 - acc: 0.8009 - val_loss: 0.3944 - val_acc: 0.8425\n",
            "Epoch 11/50\n",
            " - 119s - loss: 0.5425 - acc: 0.8052 - val_loss: 0.4063 - val_acc: 0.8500\n",
            "Epoch 12/50\n",
            " - 119s - loss: 0.5266 - acc: 0.8127 - val_loss: 0.4034 - val_acc: 0.8475\n",
            "Epoch 13/50\n",
            " - 119s - loss: 0.5337 - acc: 0.8095 - val_loss: 0.4412 - val_acc: 0.8300\n",
            "Epoch 14/50\n",
            " - 119s - loss: 0.5280 - acc: 0.8123 - val_loss: 0.4215 - val_acc: 0.8400\n",
            "Epoch 15/50\n",
            " - 119s - loss: 0.5014 - acc: 0.8191 - val_loss: 0.3973 - val_acc: 0.8500\n",
            "Epoch 16/50\n",
            " - 119s - loss: 0.5153 - acc: 0.8187 - val_loss: 0.3847 - val_acc: 0.8525\n",
            "Epoch 17/50\n",
            " - 119s - loss: 0.4767 - acc: 0.8334 - val_loss: 0.3691 - val_acc: 0.8550\n",
            "Epoch 18/50\n",
            " - 119s - loss: 0.4880 - acc: 0.8274 - val_loss: 0.4640 - val_acc: 0.8250\n",
            "Epoch 19/50\n",
            " - 119s - loss: 0.4799 - acc: 0.8329 - val_loss: 0.4171 - val_acc: 0.8425\n",
            "Epoch 20/50\n",
            " - 120s - loss: 0.4718 - acc: 0.8305 - val_loss: 0.3572 - val_acc: 0.8675\n",
            "Epoch 21/50\n",
            " - 118s - loss: 0.4627 - acc: 0.8360 - val_loss: 0.3847 - val_acc: 0.8500\n",
            "Epoch 22/50\n",
            " - 119s - loss: 0.4565 - acc: 0.8367 - val_loss: 0.3560 - val_acc: 0.8625\n",
            "Epoch 23/50\n",
            " - 119s - loss: 0.4724 - acc: 0.8314 - val_loss: 0.3608 - val_acc: 0.8425\n",
            "Epoch 24/50\n",
            " - 118s - loss: 0.4624 - acc: 0.8322 - val_loss: 0.3515 - val_acc: 0.8525\n",
            "Epoch 25/50\n",
            " - 120s - loss: 0.4457 - acc: 0.8407 - val_loss: 0.3702 - val_acc: 0.8525\n",
            "Epoch 26/50\n",
            " - 118s - loss: 0.4523 - acc: 0.8401 - val_loss: 0.3574 - val_acc: 0.8650\n",
            "Epoch 27/50\n",
            " - 119s - loss: 0.4483 - acc: 0.8386 - val_loss: 0.3392 - val_acc: 0.8675\n",
            "Epoch 28/50\n",
            " - 118s - loss: 0.4329 - acc: 0.8454 - val_loss: 0.4031 - val_acc: 0.8400\n",
            "Epoch 29/50\n",
            " - 119s - loss: 0.4311 - acc: 0.8445 - val_loss: 0.3978 - val_acc: 0.8375\n",
            "Epoch 30/50\n",
            " - 119s - loss: 0.4315 - acc: 0.8445 - val_loss: 0.3488 - val_acc: 0.8625\n",
            "Epoch 31/50\n",
            " - 119s - loss: 0.4335 - acc: 0.8436 - val_loss: 0.3730 - val_acc: 0.8475\n",
            "Epoch 32/50\n",
            " - 118s - loss: 0.4266 - acc: 0.8494 - val_loss: 0.3449 - val_acc: 0.8675\n",
            "Epoch 33/50\n",
            " - 119s - loss: 0.4187 - acc: 0.8501 - val_loss: 0.4005 - val_acc: 0.8500\n",
            "Epoch 34/50\n",
            " - 119s - loss: 0.4195 - acc: 0.8494 - val_loss: 0.3603 - val_acc: 0.8525\n",
            "Epoch 35/50\n",
            " - 119s - loss: 0.4161 - acc: 0.8517 - val_loss: 0.3223 - val_acc: 0.8725\n",
            "Epoch 36/50\n",
            " - 119s - loss: 0.4170 - acc: 0.8511 - val_loss: 0.3278 - val_acc: 0.8500\n",
            "Epoch 37/50\n",
            " - 118s - loss: 0.4090 - acc: 0.8536 - val_loss: 0.3231 - val_acc: 0.8675\n",
            "Epoch 38/50\n",
            " - 119s - loss: 0.4129 - acc: 0.8529 - val_loss: 0.3308 - val_acc: 0.8675\n",
            "Epoch 39/50\n",
            " - 119s - loss: 0.4050 - acc: 0.8542 - val_loss: 0.3410 - val_acc: 0.8650\n",
            "Epoch 40/50\n",
            " - 119s - loss: 0.4037 - acc: 0.8543 - val_loss: 0.3663 - val_acc: 0.8475\n",
            "Epoch 41/50\n",
            " - 119s - loss: 0.4075 - acc: 0.8551 - val_loss: 0.3587 - val_acc: 0.8675\n",
            "Epoch 42/50\n",
            " - 118s - loss: 0.4128 - acc: 0.8531 - val_loss: 0.3251 - val_acc: 0.8725\n",
            "Epoch 43/50\n",
            " - 119s - loss: 0.3916 - acc: 0.8624 - val_loss: 0.3466 - val_acc: 0.8625\n",
            "Epoch 44/50\n",
            " - 118s - loss: 0.3967 - acc: 0.8588 - val_loss: 0.3430 - val_acc: 0.8725\n",
            "Epoch 45/50\n",
            " - 118s - loss: 0.3857 - acc: 0.8626 - val_loss: 0.3685 - val_acc: 0.8550\n",
            "Epoch 46/50\n",
            " - 119s - loss: 0.4076 - acc: 0.8567 - val_loss: 0.3718 - val_acc: 0.8475\n",
            "Epoch 47/50\n",
            " - 118s - loss: 0.3979 - acc: 0.8601 - val_loss: 0.3112 - val_acc: 0.8850\n",
            "Epoch 48/50\n",
            " - 119s - loss: 0.3948 - acc: 0.8576 - val_loss: 0.3386 - val_acc: 0.8725\n",
            "Epoch 49/50\n",
            " - 119s - loss: 0.3900 - acc: 0.8579 - val_loss: 0.3597 - val_acc: 0.8625\n",
            "Epoch 50/50\n",
            " - 118s - loss: 0.3970 - acc: 0.8579 - val_loss: 0.3345 - val_acc: 0.8550\n"
          ],
          "name": "stdout"
        }
      ]
    },
    {
      "metadata": {
        "id": "X5kxxKA4tfLQ",
        "colab_type": "text"
      },
      "cell_type": "markdown",
      "source": [
        "Let's evaluate on the entire validation set."
      ]
    },
    {
      "metadata": {
        "id": "BGh49UYjtjVe",
        "colab_type": "code",
        "colab": {
          "base_uri": "https://localhost:8080/",
          "height": 35
        },
        "outputId": "1d7077dc-989a-4f18-a76e-d164a82aca76"
      },
      "cell_type": "code",
      "source": [
        "final_loss, final_acc = model.evaluate(x_val, y_val, verbose=0)\n",
        "print(\"Final loss: {0:.4f}, final accuracy: {1:.4f}\".format(final_loss, final_acc))"
      ],
      "execution_count": 23,
      "outputs": [
        {
          "output_type": "stream",
          "text": [
            "Final loss: 0.3073, final accuracy: 0.8835\n"
          ],
          "name": "stdout"
        }
      ]
    },
    {
      "metadata": {
        "id": "wK1ch2kVIvsD",
        "colab_type": "text"
      },
      "cell_type": "markdown",
      "source": [
        "With the validation set, our model reports approximately 0.8835 for final accuracy and 0.3073 for final loss."
      ]
    },
    {
      "metadata": {
        "id": "l71KMlrBWWZJ",
        "colab_type": "text"
      },
      "cell_type": "markdown",
      "source": [
        "To visualize the performance of the model, let's plot the accuracy and loss for both the training and validation sets."
      ]
    },
    {
      "metadata": {
        "id": "MolBan4GWlZe",
        "colab_type": "code",
        "colab": {
          "base_uri": "https://localhost:8080/",
          "height": 571
        },
        "outputId": "9ca96e89-b71f-4520-d258-f6716dbf9daf"
      },
      "cell_type": "code",
      "source": [
        "plt.plot(model_history.history['loss'], color='b')\n",
        "plt.plot(model_history.history['val_loss'], color='r')\n",
        "plt.title('Loss of Model')\n",
        "plt.xlabel('Num Epochs')\n",
        "plt.ylabel('Loss')\n",
        "plt.legend(['Training', 'Validation'])\n",
        "plt.show()\n",
        "plt.plot(model_history.history['acc'], color='b')\n",
        "plt.plot(model_history.history['val_acc'], color='r')\n",
        "plt.title('Accuracy of Model')\n",
        "plt.xlabel('Num Epochs')\n",
        "plt.ylabel('Accuracy')\n",
        "plt.legend(['Training', 'Validation'])\n",
        "plt.show()"
      ],
      "execution_count": 24,
      "outputs": [
        {
          "output_type": "display_data",
          "data": {
            "image/png": "[encoded data removed]",
            "text/plain": [
              "<Figure size 432x288 with 1 Axes>"
            ]
          },
          "metadata": {
            "tags": []
          }
        },
        {
          "output_type": "display_data",
          "data": {
            "image/png": "[encoded data removed]",
            "text/plain": [
              "<Figure size 432x288 with 1 Axes>"
            ]
          },
          "metadata": {
            "tags": []
          }
        }
      ]
    },
    {
      "metadata": {
        "id": "ueJKIwkoZwuR",
        "colab_type": "text"
      },
      "cell_type": "markdown",
      "source": [
        "To test our model with the test data provided, we will split out the label (result) of the photo from its 784 associated pixel values, shape the pixel value set and then evaluate the model using these two sets. "
      ]
    },
    {
      "metadata": {
        "id": "ZJXmXcADaneO",
        "colab_type": "code",
        "colab": {
          "base_uri": "https://localhost:8080/",
          "height": 71
        },
        "outputId": "8069e129-fa61-4ecb-fb65-84b73db9a2ef"
      },
      "cell_type": "code",
      "source": [
        "raw_test = np.loadtxt(test_set, skiprows=1, dtype='int', delimiter=',')\n",
        "x_test= raw_test[:, 1:]\n",
        "y_test = to_categorical(raw_test[:,0])\n",
        "x_test = x_test.astype(\"float32\")\n",
        "x_test = x_test.reshape(-1, 28, 28, 1)/255\n",
        "score = model.evaluate(x_test, y_test)\n",
        "print(\"Loss: {:.4f}\".format(score[0]))\n",
        "print(\"Accuracy: {:.4f}\".format(score[1]))"
      ],
      "execution_count": 25,
      "outputs": [
        {
          "output_type": "stream",
          "text": [
            "10000/10000 [==============================] - 19s 2ms/step\n",
            "Loss: 0.3036\n",
            "Accuracy: 0.8854\n"
          ],
          "name": "stdout"
        }
      ]
    },
    {
      "metadata": {
        "id": "l7nPsInp-Wq1",
        "colab_type": "text"
      },
      "cell_type": "markdown",
      "source": [
        "When we ran the model through, we achieved an accuracy score of 0.8854 and a loss of 0.3036 over the 10000 photos provided in the test set. To achieve a higher score, we could add additional layers to our network, increase the number of epochs, and tweak other parameters when building our layers and compiling our model."
      ]
    }
  ]
}